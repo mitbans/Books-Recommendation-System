{
 "cells": [
  {
   "cell_type": "markdown",
   "metadata": {},
   "source": [
    "### Building a Recommender system with Surprise\n",
    "\n",
    "This try-it focuses on exploring additional algorithms with the `Suprise` library to generate recommendations.  Your goal is to identify the optimal algorithm by minimizing the mean squared error using cross validation. You are also going to select a dataset to use from [grouplens](https://grouplens.org/datasets/movielens/) example datasets.  \n",
    "\n",
    "To begin, head over to grouplens and examine the different datasets available.  Choose one so that it is easy to create the data as expected in `Surprise` with user, item, and rating information.  Then, compare the performance of at least the `KNNBasic`, `SVD`, `NMF`, `SlopeOne`, and `CoClustering` algorithms to build your recommendations.  For more information on the algorithms see the documentation for the algorithm package [here](https://surprise.readthedocs.io/en/stable/prediction_algorithms_package.html).\n",
    "\n",
    "Share the results of your investigation and include the results of your cross validation and a basic description of your dataset with your peers.\n",
    "\n"
   ]
  },
  {
   "cell_type": "code",
   "execution_count": 2,
   "metadata": {},
   "outputs": [],
   "source": [
    "from surprise import Dataset, Reader, accuracy, KNNBasic, SVD, NMF, SlopeOne, CoClustering\n",
    "from surprise.model_selection import train_test_split, cross_validate\n",
    "\n",
    "import pandas as pd\n",
    "import numpy as np"
   ]
  },
  {
   "cell_type": "markdown",
   "metadata": {},
   "source": [
    "## Building a Book Recommendation System: A Collaborative Filtering Approach\n",
    "\n",
    "### Understanding the Problem:\n",
    "\n",
    "Given a dataset of user IDs, item IDs (books), and ratings, the goal is to predict which books a user might like based on their past preferences and the preferences of similar users.\n",
    "\n",
    "**Collaborative Filtering:**\n",
    "This is a popular technique for recommendation systems. It assumes that users who have similar tastes in the past will likely have similar tastes in the future."
   ]
  },
  {
   "cell_type": "markdown",
   "metadata": {},
   "source": [
    "### Data Understanding\n",
    "\n",
    "**Book Genome Dataset**\n",
    "\n",
    "- The data is derived from the grouplens org. \n",
    "- Dataset URL: [Book Genome Dataset](https://grouplens.org/datasets/book-genome/)\n",
    "- Raw data includes information, such as titles, item id, user id and user ratings.\n",
    "\n",
    "### Data Preparation\n",
    "**Load the dataset**"
   ]
  },
  {
   "cell_type": "code",
   "execution_count": 4,
   "metadata": {},
   "outputs": [],
   "source": [
    "book_ratings = pd.read_json('../data/ratings.json', lines=True)"
   ]
  },
  {
   "cell_type": "code",
   "execution_count": 5,
   "metadata": {},
   "outputs": [
    {
     "data": {
      "text/plain": [
       "(5152656, 3)"
      ]
     },
     "execution_count": 5,
     "metadata": {},
     "output_type": "execute_result"
    }
   ],
   "source": [
    "book_ratings.shape"
   ]
  },
  {
   "cell_type": "code",
   "execution_count": 6,
   "metadata": {},
   "outputs": [
    {
     "data": {
      "text/html": [
       "<div>\n",
       "<style scoped>\n",
       "    .dataframe tbody tr th:only-of-type {\n",
       "        vertical-align: middle;\n",
       "    }\n",
       "\n",
       "    .dataframe tbody tr th {\n",
       "        vertical-align: top;\n",
       "    }\n",
       "\n",
       "    .dataframe thead th {\n",
       "        text-align: right;\n",
       "    }\n",
       "</style>\n",
       "<table border=\"1\" class=\"dataframe\">\n",
       "  <thead>\n",
       "    <tr style=\"text-align: right;\">\n",
       "      <th></th>\n",
       "      <th>item_id</th>\n",
       "      <th>user_id</th>\n",
       "      <th>rating</th>\n",
       "    </tr>\n",
       "  </thead>\n",
       "  <tbody>\n",
       "    <tr>\n",
       "      <th>0</th>\n",
       "      <td>41335427</td>\n",
       "      <td>0</td>\n",
       "      <td>5</td>\n",
       "    </tr>\n",
       "    <tr>\n",
       "      <th>1</th>\n",
       "      <td>41335427</td>\n",
       "      <td>1</td>\n",
       "      <td>3</td>\n",
       "    </tr>\n",
       "    <tr>\n",
       "      <th>2</th>\n",
       "      <td>41335427</td>\n",
       "      <td>2</td>\n",
       "      <td>5</td>\n",
       "    </tr>\n",
       "    <tr>\n",
       "      <th>3</th>\n",
       "      <td>41335427</td>\n",
       "      <td>3</td>\n",
       "      <td>5</td>\n",
       "    </tr>\n",
       "    <tr>\n",
       "      <th>4</th>\n",
       "      <td>41335427</td>\n",
       "      <td>4</td>\n",
       "      <td>5</td>\n",
       "    </tr>\n",
       "  </tbody>\n",
       "</table>\n",
       "</div>"
      ],
      "text/plain": [
       "    item_id  user_id  rating\n",
       "0  41335427        0       5\n",
       "1  41335427        1       3\n",
       "2  41335427        2       5\n",
       "3  41335427        3       5\n",
       "4  41335427        4       5"
      ]
     },
     "execution_count": 6,
     "metadata": {},
     "output_type": "execute_result"
    }
   ],
   "source": [
    "book_ratings.head()"
   ]
  },
  {
   "cell_type": "code",
   "execution_count": 8,
   "metadata": {},
   "outputs": [],
   "source": [
    "book_title = pd.read_json('../data/metadata.json', lines=True)"
   ]
  },
  {
   "cell_type": "code",
   "execution_count": 9,
   "metadata": {},
   "outputs": [
    {
     "data": {
      "text/plain": [
       "(9374, 8)"
      ]
     },
     "execution_count": 9,
     "metadata": {},
     "output_type": "execute_result"
    }
   ],
   "source": [
    "book_title.shape"
   ]
  },
  {
   "cell_type": "code",
   "execution_count": 10,
   "metadata": {},
   "outputs": [
    {
     "data": {
      "text/html": [
       "<div>\n",
       "<style scoped>\n",
       "    .dataframe tbody tr th:only-of-type {\n",
       "        vertical-align: middle;\n",
       "    }\n",
       "\n",
       "    .dataframe tbody tr th {\n",
       "        vertical-align: top;\n",
       "    }\n",
       "\n",
       "    .dataframe thead th {\n",
       "        text-align: right;\n",
       "    }\n",
       "</style>\n",
       "<table border=\"1\" class=\"dataframe\">\n",
       "  <thead>\n",
       "    <tr style=\"text-align: right;\">\n",
       "      <th></th>\n",
       "      <th>item_id</th>\n",
       "      <th>url</th>\n",
       "      <th>title</th>\n",
       "      <th>authors</th>\n",
       "      <th>lang</th>\n",
       "      <th>img</th>\n",
       "      <th>year</th>\n",
       "      <th>description</th>\n",
       "    </tr>\n",
       "  </thead>\n",
       "  <tbody>\n",
       "    <tr>\n",
       "      <th>0</th>\n",
       "      <td>16827462</td>\n",
       "      <td>https://www.goodreads.com/book/show/11870085-t...</td>\n",
       "      <td>The Fault in Our Stars</td>\n",
       "      <td>John Green</td>\n",
       "      <td>eng</td>\n",
       "      <td>https://images.gr-assets.com/books/1360206420m...</td>\n",
       "      <td>2012</td>\n",
       "      <td>There is an alternate cover edition \u0001.\\n\"I fel...</td>\n",
       "    </tr>\n",
       "    <tr>\n",
       "      <th>1</th>\n",
       "      <td>2792775</td>\n",
       "      <td>https://www.goodreads.com/book/show/2767052-th...</td>\n",
       "      <td>The Hunger Games (The Hunger Games, #1)</td>\n",
       "      <td>Suzanne Collins</td>\n",
       "      <td>eng</td>\n",
       "      <td>https://images.gr-assets.com/books/1447303603m...</td>\n",
       "      <td>2008</td>\n",
       "      <td>Winning will make you famous.\\nLosing means ce...</td>\n",
       "    </tr>\n",
       "    <tr>\n",
       "      <th>2</th>\n",
       "      <td>8812783</td>\n",
       "      <td>https://www.goodreads.com/book/show/7260188-mo...</td>\n",
       "      <td>Mockingjay (The Hunger Games, #3)</td>\n",
       "      <td>Suzanne Collins</td>\n",
       "      <td>eng</td>\n",
       "      <td>https://images.gr-assets.com/books/1358275419m...</td>\n",
       "      <td>2010</td>\n",
       "      <td>My name is Katniss Everdeen.\\nWhy am I not dea...</td>\n",
       "    </tr>\n",
       "    <tr>\n",
       "      <th>3</th>\n",
       "      <td>41107568</td>\n",
       "      <td>https://www.goodreads.com/book/show/22557272-t...</td>\n",
       "      <td>The Girl on the Train</td>\n",
       "      <td>Paula Hawkins</td>\n",
       "      <td>eng</td>\n",
       "      <td>https://images.gr-assets.com/books/1490903702m...</td>\n",
       "      <td>2015</td>\n",
       "      <td>Every day the same\\nRachel takes the same comm...</td>\n",
       "    </tr>\n",
       "    <tr>\n",
       "      <th>4</th>\n",
       "      <td>6171458</td>\n",
       "      <td>https://www.goodreads.com/book/show/6148028-ca...</td>\n",
       "      <td>Catching Fire (The Hunger Games, #2)</td>\n",
       "      <td>Suzanne Collins</td>\n",
       "      <td>eng</td>\n",
       "      <td>https://images.gr-assets.com/books/1358273780m...</td>\n",
       "      <td>2009</td>\n",
       "      <td>Sparks are igniting.\\nFlames are spreading.\\nA...</td>\n",
       "    </tr>\n",
       "  </tbody>\n",
       "</table>\n",
       "</div>"
      ],
      "text/plain": [
       "    item_id                                                url  \\\n",
       "0  16827462  https://www.goodreads.com/book/show/11870085-t...   \n",
       "1   2792775  https://www.goodreads.com/book/show/2767052-th...   \n",
       "2   8812783  https://www.goodreads.com/book/show/7260188-mo...   \n",
       "3  41107568  https://www.goodreads.com/book/show/22557272-t...   \n",
       "4   6171458  https://www.goodreads.com/book/show/6148028-ca...   \n",
       "\n",
       "                                     title          authors lang  \\\n",
       "0                   The Fault in Our Stars       John Green  eng   \n",
       "1  The Hunger Games (The Hunger Games, #1)  Suzanne Collins  eng   \n",
       "2        Mockingjay (The Hunger Games, #3)  Suzanne Collins  eng   \n",
       "3                    The Girl on the Train    Paula Hawkins  eng   \n",
       "4     Catching Fire (The Hunger Games, #2)  Suzanne Collins  eng   \n",
       "\n",
       "                                                 img  year  \\\n",
       "0  https://images.gr-assets.com/books/1360206420m...  2012   \n",
       "1  https://images.gr-assets.com/books/1447303603m...  2008   \n",
       "2  https://images.gr-assets.com/books/1358275419m...  2010   \n",
       "3  https://images.gr-assets.com/books/1490903702m...  2015   \n",
       "4  https://images.gr-assets.com/books/1358273780m...  2009   \n",
       "\n",
       "                                         description  \n",
       "0  There is an alternate cover edition \u0001.\\n\"I fel...  \n",
       "1  Winning will make you famous.\\nLosing means ce...  \n",
       "2  My name is Katniss Everdeen.\\nWhy am I not dea...  \n",
       "3  Every day the same\\nRachel takes the same comm...  \n",
       "4  Sparks are igniting.\\nFlames are spreading.\\nA...  "
      ]
     },
     "execution_count": 10,
     "metadata": {},
     "output_type": "execute_result"
    }
   ],
   "source": [
    "book_title.head()"
   ]
  },
  {
   "cell_type": "code",
   "execution_count": 11,
   "metadata": {},
   "outputs": [],
   "source": [
    "# Merge the DataFrames on the 'item_id' column\n",
    "merged_df = pd.merge(book_ratings, book_title[['item_id', 'title']], on='item_id', how='left')"
   ]
  },
  {
   "cell_type": "code",
   "execution_count": 12,
   "metadata": {},
   "outputs": [
    {
     "data": {
      "text/html": [
       "<div>\n",
       "<style scoped>\n",
       "    .dataframe tbody tr th:only-of-type {\n",
       "        vertical-align: middle;\n",
       "    }\n",
       "\n",
       "    .dataframe tbody tr th {\n",
       "        vertical-align: top;\n",
       "    }\n",
       "\n",
       "    .dataframe thead th {\n",
       "        text-align: right;\n",
       "    }\n",
       "</style>\n",
       "<table border=\"1\" class=\"dataframe\">\n",
       "  <thead>\n",
       "    <tr style=\"text-align: right;\">\n",
       "      <th></th>\n",
       "      <th>item_id</th>\n",
       "      <th>user_id</th>\n",
       "      <th>rating</th>\n",
       "      <th>title</th>\n",
       "    </tr>\n",
       "  </thead>\n",
       "  <tbody>\n",
       "    <tr>\n",
       "      <th>0</th>\n",
       "      <td>41335427</td>\n",
       "      <td>0</td>\n",
       "      <td>5</td>\n",
       "      <td>Harry Potter and the Half-Blood Prince (Harry ...</td>\n",
       "    </tr>\n",
       "    <tr>\n",
       "      <th>1</th>\n",
       "      <td>41335427</td>\n",
       "      <td>1</td>\n",
       "      <td>3</td>\n",
       "      <td>Harry Potter and the Half-Blood Prince (Harry ...</td>\n",
       "    </tr>\n",
       "    <tr>\n",
       "      <th>2</th>\n",
       "      <td>41335427</td>\n",
       "      <td>2</td>\n",
       "      <td>5</td>\n",
       "      <td>Harry Potter and the Half-Blood Prince (Harry ...</td>\n",
       "    </tr>\n",
       "    <tr>\n",
       "      <th>3</th>\n",
       "      <td>41335427</td>\n",
       "      <td>3</td>\n",
       "      <td>5</td>\n",
       "      <td>Harry Potter and the Half-Blood Prince (Harry ...</td>\n",
       "    </tr>\n",
       "    <tr>\n",
       "      <th>4</th>\n",
       "      <td>41335427</td>\n",
       "      <td>4</td>\n",
       "      <td>5</td>\n",
       "      <td>Harry Potter and the Half-Blood Prince (Harry ...</td>\n",
       "    </tr>\n",
       "  </tbody>\n",
       "</table>\n",
       "</div>"
      ],
      "text/plain": [
       "    item_id  user_id  rating  \\\n",
       "0  41335427        0       5   \n",
       "1  41335427        1       3   \n",
       "2  41335427        2       5   \n",
       "3  41335427        3       5   \n",
       "4  41335427        4       5   \n",
       "\n",
       "                                               title  \n",
       "0  Harry Potter and the Half-Blood Prince (Harry ...  \n",
       "1  Harry Potter and the Half-Blood Prince (Harry ...  \n",
       "2  Harry Potter and the Half-Blood Prince (Harry ...  \n",
       "3  Harry Potter and the Half-Blood Prince (Harry ...  \n",
       "4  Harry Potter and the Half-Blood Prince (Harry ...  "
      ]
     },
     "execution_count": 12,
     "metadata": {},
     "output_type": "execute_result"
    }
   ],
   "source": [
    "merged_df.head()"
   ]
  },
  {
   "cell_type": "code",
   "execution_count": 13,
   "metadata": {},
   "outputs": [
    {
     "data": {
      "text/plain": [
       "array([5, 3, 4, 2, 1])"
      ]
     },
     "execution_count": 13,
     "metadata": {},
     "output_type": "execute_result"
    }
   ],
   "source": [
    "merged_df.rating.unique()"
   ]
  },
  {
   "cell_type": "code",
   "execution_count": 14,
   "metadata": {},
   "outputs": [
    {
     "data": {
      "text/plain": [
       "(5152656, 4)"
      ]
     },
     "execution_count": 14,
     "metadata": {},
     "output_type": "execute_result"
    }
   ],
   "source": [
    "merged_df.shape"
   ]
  },
  {
   "cell_type": "markdown",
   "metadata": {},
   "source": [
    "#### Take a small sample of 500K records for ease of processing"
   ]
  },
  {
   "cell_type": "code",
   "execution_count": 15,
   "metadata": {},
   "outputs": [],
   "source": [
    "book_500k = merged_df.sample(n=500000, random_state=42)"
   ]
  },
  {
   "cell_type": "code",
   "execution_count": 16,
   "metadata": {},
   "outputs": [],
   "source": [
    "book_500k.to_csv('../data/ratings_500k.csv', index=False)"
   ]
  },
  {
   "cell_type": "markdown",
   "metadata": {},
   "source": [
    "#### Load the dataset into sf"
   ]
  },
  {
   "cell_type": "code",
   "execution_count": 18,
   "metadata": {},
   "outputs": [],
   "source": [
    "# Define the Reader and load the dataset\n",
    "a = book_500k[['user_id', 'item_id', 'rating']]\n",
    "reader = Reader(rating_scale=(1, 5))\n",
    "sf = Dataset.load_from_df(a, reader)"
   ]
  },
  {
   "cell_type": "markdown",
   "metadata": {},
   "source": [
    "### Modeling\n",
    "\n",
    "#### Comparing Recommendation Algorithms: KNNBasic, SVD, NMF, SlopeOne, and CoClustering\n",
    "\n",
    "**Understanding the Algorithms:**\n",
    "\n",
    "- **KNNBasic:** A simple nearest neighbor algorithm that recommends items based on the ratings of similar users.   \n",
    "- **SVD:** Singular Value Decomposition is a matrix factorization technique that decomposes the user-item rating matrix into latent factors.   \n",
    "- **NMF:** Non-negative Matrix Factorization is another matrix factorization technique that decomposes the rating matrix into non-negative factors.\n",
    "- **SlopeOne:** A simple algorithm that estimates the rating of an item by a user based on the average difference between ratings of that item and other items rated by the user.\n",
    "- **CoClustering:** A clustering-based approach that simultaneously clusters users and items, assuming that users in the same cluster tend to prefer items in the same cluster.\n",
    "\n",
    "**Cross-Validation:** Due to compute constraints, couldn't perform cross-validation for KNNBasic."
   ]
  },
  {
   "cell_type": "code",
   "execution_count": 19,
   "metadata": {},
   "outputs": [],
   "source": [
    "# List of algorithms to evaluate\n",
    "\n",
    "# Configure KNNBasic with fewer neighbors\n",
    "# sim_options = {\n",
    "#    'name': 'cosine',\n",
    "#    'user_based': True\n",
    "#}\n",
    "\n",
    "models = {\n",
    "   # 'KNNBasic': KNNBasic(k=5, sim_options=sim_options),\n",
    "    'SVD': SVD(),\n",
    "    'NMF': NMF(),\n",
    "    'SlopeOne': SlopeOne(),\n",
    "    'CoClustering': CoClustering()\n",
    "}"
   ]
  },
  {
   "cell_type": "code",
   "execution_count": 20,
   "metadata": {},
   "outputs": [
    {
     "name": "stdout",
     "output_type": "stream",
     "text": [
      "Cross-validating SVD...\n",
      "Evaluating RMSE, MAE of algorithm SVD on 5 split(s).\n",
      "\n",
      "                  Fold 1  Fold 2  Fold 3  Fold 4  Fold 5  Mean    Std     \n",
      "RMSE (testset)    0.9780  0.9778  0.9801  0.9769  0.9761  0.9778  0.0014  \n",
      "MAE (testset)     0.7747  0.7751  0.7759  0.7745  0.7732  0.7746  0.0009  \n",
      "Fit time          6.83    7.28    7.17    7.46    6.92    7.13    0.23    \n",
      "Test time         0.89    0.81    0.83    0.88    0.93    0.87    0.04    \n",
      "Cross-validating NMF...\n",
      "Evaluating RMSE, MAE of algorithm NMF on 5 split(s).\n",
      "\n",
      "                  Fold 1  Fold 2  Fold 3  Fold 4  Fold 5  Mean    Std     \n",
      "RMSE (testset)    1.1333  1.1336  1.1376  1.1434  1.1335  1.1363  0.0039  \n",
      "MAE (testset)     0.8893  0.8908  0.8940  0.8988  0.8902  0.8926  0.0035  \n",
      "Fit time          18.91   20.36   20.63   20.40   18.56   19.77   0.86    \n",
      "Test time         0.76    0.53    0.52    0.74    0.52    0.61    0.11    \n",
      "Cross-validating SlopeOne...\n",
      "Evaluating RMSE, MAE of algorithm SlopeOne on 5 split(s).\n",
      "\n",
      "                  Fold 1  Fold 2  Fold 3  Fold 4  Fold 5  Mean    Std     \n",
      "RMSE (testset)    1.1821  1.1800  1.1816  1.1807  1.1800  1.1809  0.0009  \n",
      "MAE (testset)     0.8940  0.8927  0.8950  0.8936  0.8929  0.8936  0.0008  \n",
      "Fit time          2.39    2.76    2.68    2.66    2.66    2.63    0.13    \n",
      "Test time         1.14    1.46    1.12    1.14    1.49    1.27    0.17    \n",
      "Cross-validating CoClustering...\n",
      "Evaluating RMSE, MAE of algorithm CoClustering on 5 split(s).\n",
      "\n",
      "                  Fold 1  Fold 2  Fold 3  Fold 4  Fold 5  Mean    Std     \n",
      "RMSE (testset)    1.0690  1.0628  1.0672  1.0627  1.0693  1.0662  0.0029  \n",
      "MAE (testset)     0.8095  0.8068  0.8117  0.8047  0.8104  0.8086  0.0026  \n",
      "Fit time          16.46   16.26   16.86   20.61   17.69   17.58   1.60    \n",
      "Test time         0.90    0.57    0.93    1.21    0.46    0.82    0.27    \n"
     ]
    }
   ],
   "source": [
    "# Dictionary to store results\n",
    "results = {}\n",
    "\n",
    "# Evaluate each algorithm\n",
    "for name, model in models.items():\n",
    "    print(f\"Cross-validating {name}...\")\n",
    "    cv_results = cross_validate(model, sf, measures=['RMSE', 'MAE'], cv=5, verbose=True)\n",
    "    results[name] = {\n",
    "        'RMSE Mean': cv_results['test_rmse'].mean(),\n",
    "        'RMSE Std': cv_results['test_rmse'].std(),\n",
    "        'MAE Mean': cv_results['test_mae'].mean(),\n",
    "        'MAE Std': cv_results['test_mae'].std()\n",
    "    }"
   ]
  },
  {
   "cell_type": "markdown",
   "metadata": {},
   "source": [
    "### Evaluation:\n",
    "\n",
    "**Metrics:** Used metrics like root mean squared error (RMSE) and mean absolute error (MAE) to evaluate the accuracy of the recommendations."
   ]
  },
  {
   "cell_type": "code",
   "execution_count": 21,
   "metadata": {},
   "outputs": [
    {
     "name": "stdout",
     "output_type": "stream",
     "text": [
      "              RMSE Mean  RMSE Std  MAE Mean   MAE Std\n",
      "SVD            0.977785  0.001358  0.774649  0.000882\n",
      "NMF            1.136273  0.003924  0.892613  0.003471\n",
      "SlopeOne       1.180892  0.000856  0.893620  0.000816\n",
      "CoClustering   1.066204  0.002902  0.808641  0.002551\n"
     ]
    }
   ],
   "source": [
    "import pandas as pd\n",
    "results_df = pd.DataFrame(results).T\n",
    "print(results_df)"
   ]
  },
  {
   "cell_type": "markdown",
   "metadata": {},
   "source": [
    "### Conclusion\n",
    "\n",
    "Based on the evaluation metrics (RMSE and MAE), SVD appears to be the most effective algorithm for the given book recommendation task. It consistently demonstrates lower error rates compared to the other algorithms (NMF, SlopeOne, and CoClustering).\n",
    "\n",
    "#### Key Findings:\n",
    "\n",
    "- **SVD**: Best accuracy with the lowest RMSE (0.9778) and MAE (0.7746), and balanced fit and test times.\n",
    "- **NMF**: Higher error rates (RMSE: 1.1363, MAE: 0.8926) with the longest fit times but faster test times.\n",
    "- **SlopeOne**: Highest error rates (RMSE: 1.1809, MAE: 0.8936) with the shortest fit times.\n",
    "- **CoClustering**: Better accuracy than NMF and SlopeOne (RMSE: 1.0662, MAE: 0.8086) but with longer fit times.\n",
    "  \n",
    "#### Further Considerations:\n",
    "\n",
    "- **Scalability**: Assessing how well each model scales with increasing data size. SVD and CoClustering may handle larger datasets better due to their matrix factorization approaches.\n",
    "- **Computational Resources**: Considering the available computational resources. If resources are limited, SlopeOne’s low computational cost might be beneficial despite its lower accuracy.\n",
    "- **Real-Time Performance**: Evaluating the test time and whether the model can meet real-time requirements if applicable. SlopeOne and CoClustering offer different trade-offs between accuracy and speed.\n",
    "- **Interpretability**: Some models might provide better insights into the data. For instance, SVD and CoClustering can offer more interpretable results compared to NMF.\n",
    "- **Robustness**: Examining how each model performs under various conditions or with noisy data. Consistency in error rates across folds is an indicator of robustness.\n",
    "- **Future Updates**: Considering how easily each model can be updated or retrained as new data becomes available. \n",
    "- **Business Needs**: Aligning the choice of model with the specific needs and constraints of the business or application, including accuracy requirements, computational constraints, and real-time processing needs."
   ]
  },
  {
   "cell_type": "code",
   "execution_count": null,
   "metadata": {},
   "outputs": [],
   "source": []
  }
 ],
 "metadata": {
  "kernelspec": {
   "display_name": "Python 3 (ipykernel)",
   "language": "python",
   "name": "python3"
  },
  "language_info": {
   "codemirror_mode": {
    "name": "ipython",
    "version": 3
   },
   "file_extension": ".py",
   "mimetype": "text/x-python",
   "name": "python",
   "nbconvert_exporter": "python",
   "pygments_lexer": "ipython3",
   "version": "3.12.4"
  }
 },
 "nbformat": 4,
 "nbformat_minor": 4
}
