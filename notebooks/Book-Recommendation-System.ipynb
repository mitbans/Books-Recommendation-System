{
 "cells": [
  {
   "cell_type": "markdown",
   "metadata": {},
   "source": [
    "### Building a Recommender system with Surprise\n",
    "\n",
    "This try-it focuses on exploring additional algorithms with the `Suprise` library to generate recommendations.  Your goal is to identify the optimal algorithm by minimizing the mean squared error using cross validation. You are also going to select a dataset to use from [grouplens](https://grouplens.org/datasets/movielens/) example datasets.  \n",
    "\n",
    "To begin, head over to grouplens and examine the different datasets available.  Choose one so that it is easy to create the data as expected in `Surprise` with user, item, and rating information.  Then, compare the performance of at least the `KNNBasic`, `SVD`, `NMF`, `SlopeOne`, and `CoClustering` algorithms to build your recommendations.  For more information on the algorithms see the documentation for the algorithm package [here](https://surprise.readthedocs.io/en/stable/prediction_algorithms_package.html).\n",
    "\n",
    "Share the results of your investigation and include the results of your cross validation and a basic description of your dataset with your peers.\n",
    "\n"
   ]
  },
  {
   "cell_type": "code",
   "execution_count": 5,
   "metadata": {},
   "outputs": [],
   "source": [
    "from surprise import Dataset, Reader, accuracy, KNNBasic, SVD, NMF, SlopeOne, CoClustering\n",
    "from surprise.model_selection import train_test_split, cross_validate\n",
    "\n",
    "import pandas as pd\n",
    "import numpy as np"
   ]
  },
  {
   "cell_type": "markdown",
   "metadata": {},
   "source": [
    "### The Data: Book Genome Dataset\n",
    "\n",
    "The data is derived from the MovieLens data [here](https://grouplens.org/datasets/movielens/)-> [Book Genome Dataset](https://grouplens.org/datasets/book-genome/). Raw data includes information, such as titles, authors, user ratings and book-tag ratings."
   ]
  },
  {
   "cell_type": "code",
   "execution_count": 8,
   "metadata": {},
   "outputs": [],
   "source": [
    "book_ratings = pd.read_json('../data/book_dataset/raw/ratings.json', lines=True)"
   ]
  },
  {
   "cell_type": "code",
   "execution_count": 9,
   "metadata": {},
   "outputs": [
    {
     "data": {
      "text/plain": [
       "(5152656, 3)"
      ]
     },
     "execution_count": 9,
     "metadata": {},
     "output_type": "execute_result"
    }
   ],
   "source": [
    "book_ratings.shape"
   ]
  },
  {
   "cell_type": "code",
   "execution_count": 10,
   "metadata": {},
   "outputs": [
    {
     "data": {
      "text/html": [
       "<div>\n",
       "<style scoped>\n",
       "    .dataframe tbody tr th:only-of-type {\n",
       "        vertical-align: middle;\n",
       "    }\n",
       "\n",
       "    .dataframe tbody tr th {\n",
       "        vertical-align: top;\n",
       "    }\n",
       "\n",
       "    .dataframe thead th {\n",
       "        text-align: right;\n",
       "    }\n",
       "</style>\n",
       "<table border=\"1\" class=\"dataframe\">\n",
       "  <thead>\n",
       "    <tr style=\"text-align: right;\">\n",
       "      <th></th>\n",
       "      <th>item_id</th>\n",
       "      <th>user_id</th>\n",
       "      <th>rating</th>\n",
       "    </tr>\n",
       "  </thead>\n",
       "  <tbody>\n",
       "    <tr>\n",
       "      <th>0</th>\n",
       "      <td>41335427</td>\n",
       "      <td>0</td>\n",
       "      <td>5</td>\n",
       "    </tr>\n",
       "    <tr>\n",
       "      <th>1</th>\n",
       "      <td>41335427</td>\n",
       "      <td>1</td>\n",
       "      <td>3</td>\n",
       "    </tr>\n",
       "    <tr>\n",
       "      <th>2</th>\n",
       "      <td>41335427</td>\n",
       "      <td>2</td>\n",
       "      <td>5</td>\n",
       "    </tr>\n",
       "    <tr>\n",
       "      <th>3</th>\n",
       "      <td>41335427</td>\n",
       "      <td>3</td>\n",
       "      <td>5</td>\n",
       "    </tr>\n",
       "    <tr>\n",
       "      <th>4</th>\n",
       "      <td>41335427</td>\n",
       "      <td>4</td>\n",
       "      <td>5</td>\n",
       "    </tr>\n",
       "  </tbody>\n",
       "</table>\n",
       "</div>"
      ],
      "text/plain": [
       "    item_id  user_id  rating\n",
       "0  41335427        0       5\n",
       "1  41335427        1       3\n",
       "2  41335427        2       5\n",
       "3  41335427        3       5\n",
       "4  41335427        4       5"
      ]
     },
     "execution_count": 10,
     "metadata": {},
     "output_type": "execute_result"
    }
   ],
   "source": [
    "book_ratings.head()"
   ]
  },
  {
   "cell_type": "code",
   "execution_count": 11,
   "metadata": {},
   "outputs": [],
   "source": [
    "book_ratings.to_csv('../data/book_dataset/raw/ratings.csv', index=False)"
   ]
  },
  {
   "cell_type": "code",
   "execution_count": 12,
   "metadata": {},
   "outputs": [],
   "source": [
    "book_title = pd.read_json('../data/book_dataset/raw/metadata.json', lines=True)"
   ]
  },
  {
   "cell_type": "code",
   "execution_count": 13,
   "metadata": {},
   "outputs": [
    {
     "data": {
      "text/plain": [
       "(9374, 8)"
      ]
     },
     "execution_count": 13,
     "metadata": {},
     "output_type": "execute_result"
    }
   ],
   "source": [
    "book_title.shape"
   ]
  },
  {
   "cell_type": "code",
   "execution_count": 14,
   "metadata": {},
   "outputs": [
    {
     "data": {
      "text/html": [
       "<div>\n",
       "<style scoped>\n",
       "    .dataframe tbody tr th:only-of-type {\n",
       "        vertical-align: middle;\n",
       "    }\n",
       "\n",
       "    .dataframe tbody tr th {\n",
       "        vertical-align: top;\n",
       "    }\n",
       "\n",
       "    .dataframe thead th {\n",
       "        text-align: right;\n",
       "    }\n",
       "</style>\n",
       "<table border=\"1\" class=\"dataframe\">\n",
       "  <thead>\n",
       "    <tr style=\"text-align: right;\">\n",
       "      <th></th>\n",
       "      <th>item_id</th>\n",
       "      <th>url</th>\n",
       "      <th>title</th>\n",
       "      <th>authors</th>\n",
       "      <th>lang</th>\n",
       "      <th>img</th>\n",
       "      <th>year</th>\n",
       "      <th>description</th>\n",
       "    </tr>\n",
       "  </thead>\n",
       "  <tbody>\n",
       "    <tr>\n",
       "      <th>0</th>\n",
       "      <td>16827462</td>\n",
       "      <td>https://www.goodreads.com/book/show/11870085-t...</td>\n",
       "      <td>The Fault in Our Stars</td>\n",
       "      <td>John Green</td>\n",
       "      <td>eng</td>\n",
       "      <td>https://images.gr-assets.com/books/1360206420m...</td>\n",
       "      <td>2012</td>\n",
       "      <td>There is an alternate cover edition \u0001.\\n\"I fel...</td>\n",
       "    </tr>\n",
       "    <tr>\n",
       "      <th>1</th>\n",
       "      <td>2792775</td>\n",
       "      <td>https://www.goodreads.com/book/show/2767052-th...</td>\n",
       "      <td>The Hunger Games (The Hunger Games, #1)</td>\n",
       "      <td>Suzanne Collins</td>\n",
       "      <td>eng</td>\n",
       "      <td>https://images.gr-assets.com/books/1447303603m...</td>\n",
       "      <td>2008</td>\n",
       "      <td>Winning will make you famous.\\nLosing means ce...</td>\n",
       "    </tr>\n",
       "    <tr>\n",
       "      <th>2</th>\n",
       "      <td>8812783</td>\n",
       "      <td>https://www.goodreads.com/book/show/7260188-mo...</td>\n",
       "      <td>Mockingjay (The Hunger Games, #3)</td>\n",
       "      <td>Suzanne Collins</td>\n",
       "      <td>eng</td>\n",
       "      <td>https://images.gr-assets.com/books/1358275419m...</td>\n",
       "      <td>2010</td>\n",
       "      <td>My name is Katniss Everdeen.\\nWhy am I not dea...</td>\n",
       "    </tr>\n",
       "    <tr>\n",
       "      <th>3</th>\n",
       "      <td>41107568</td>\n",
       "      <td>https://www.goodreads.com/book/show/22557272-t...</td>\n",
       "      <td>The Girl on the Train</td>\n",
       "      <td>Paula Hawkins</td>\n",
       "      <td>eng</td>\n",
       "      <td>https://images.gr-assets.com/books/1490903702m...</td>\n",
       "      <td>2015</td>\n",
       "      <td>Every day the same\\nRachel takes the same comm...</td>\n",
       "    </tr>\n",
       "    <tr>\n",
       "      <th>4</th>\n",
       "      <td>6171458</td>\n",
       "      <td>https://www.goodreads.com/book/show/6148028-ca...</td>\n",
       "      <td>Catching Fire (The Hunger Games, #2)</td>\n",
       "      <td>Suzanne Collins</td>\n",
       "      <td>eng</td>\n",
       "      <td>https://images.gr-assets.com/books/1358273780m...</td>\n",
       "      <td>2009</td>\n",
       "      <td>Sparks are igniting.\\nFlames are spreading.\\nA...</td>\n",
       "    </tr>\n",
       "  </tbody>\n",
       "</table>\n",
       "</div>"
      ],
      "text/plain": [
       "    item_id                                                url  \\\n",
       "0  16827462  https://www.goodreads.com/book/show/11870085-t...   \n",
       "1   2792775  https://www.goodreads.com/book/show/2767052-th...   \n",
       "2   8812783  https://www.goodreads.com/book/show/7260188-mo...   \n",
       "3  41107568  https://www.goodreads.com/book/show/22557272-t...   \n",
       "4   6171458  https://www.goodreads.com/book/show/6148028-ca...   \n",
       "\n",
       "                                     title          authors lang  \\\n",
       "0                   The Fault in Our Stars       John Green  eng   \n",
       "1  The Hunger Games (The Hunger Games, #1)  Suzanne Collins  eng   \n",
       "2        Mockingjay (The Hunger Games, #3)  Suzanne Collins  eng   \n",
       "3                    The Girl on the Train    Paula Hawkins  eng   \n",
       "4     Catching Fire (The Hunger Games, #2)  Suzanne Collins  eng   \n",
       "\n",
       "                                                 img  year  \\\n",
       "0  https://images.gr-assets.com/books/1360206420m...  2012   \n",
       "1  https://images.gr-assets.com/books/1447303603m...  2008   \n",
       "2  https://images.gr-assets.com/books/1358275419m...  2010   \n",
       "3  https://images.gr-assets.com/books/1490903702m...  2015   \n",
       "4  https://images.gr-assets.com/books/1358273780m...  2009   \n",
       "\n",
       "                                         description  \n",
       "0  There is an alternate cover edition \u0001.\\n\"I fel...  \n",
       "1  Winning will make you famous.\\nLosing means ce...  \n",
       "2  My name is Katniss Everdeen.\\nWhy am I not dea...  \n",
       "3  Every day the same\\nRachel takes the same comm...  \n",
       "4  Sparks are igniting.\\nFlames are spreading.\\nA...  "
      ]
     },
     "execution_count": 14,
     "metadata": {},
     "output_type": "execute_result"
    }
   ],
   "source": [
    "book_title.head()"
   ]
  },
  {
   "cell_type": "code",
   "execution_count": 15,
   "metadata": {},
   "outputs": [],
   "source": [
    "# Merge the DataFrames on the 'item_id' column\n",
    "merged_df = pd.merge(book_ratings, book_title[['item_id', 'title']], on='item_id', how='left')"
   ]
  },
  {
   "cell_type": "code",
   "execution_count": 16,
   "metadata": {},
   "outputs": [
    {
     "data": {
      "text/html": [
       "<div>\n",
       "<style scoped>\n",
       "    .dataframe tbody tr th:only-of-type {\n",
       "        vertical-align: middle;\n",
       "    }\n",
       "\n",
       "    .dataframe tbody tr th {\n",
       "        vertical-align: top;\n",
       "    }\n",
       "\n",
       "    .dataframe thead th {\n",
       "        text-align: right;\n",
       "    }\n",
       "</style>\n",
       "<table border=\"1\" class=\"dataframe\">\n",
       "  <thead>\n",
       "    <tr style=\"text-align: right;\">\n",
       "      <th></th>\n",
       "      <th>item_id</th>\n",
       "      <th>user_id</th>\n",
       "      <th>rating</th>\n",
       "      <th>title</th>\n",
       "    </tr>\n",
       "  </thead>\n",
       "  <tbody>\n",
       "    <tr>\n",
       "      <th>0</th>\n",
       "      <td>41335427</td>\n",
       "      <td>0</td>\n",
       "      <td>5</td>\n",
       "      <td>Harry Potter and the Half-Blood Prince (Harry ...</td>\n",
       "    </tr>\n",
       "    <tr>\n",
       "      <th>1</th>\n",
       "      <td>41335427</td>\n",
       "      <td>1</td>\n",
       "      <td>3</td>\n",
       "      <td>Harry Potter and the Half-Blood Prince (Harry ...</td>\n",
       "    </tr>\n",
       "    <tr>\n",
       "      <th>2</th>\n",
       "      <td>41335427</td>\n",
       "      <td>2</td>\n",
       "      <td>5</td>\n",
       "      <td>Harry Potter and the Half-Blood Prince (Harry ...</td>\n",
       "    </tr>\n",
       "    <tr>\n",
       "      <th>3</th>\n",
       "      <td>41335427</td>\n",
       "      <td>3</td>\n",
       "      <td>5</td>\n",
       "      <td>Harry Potter and the Half-Blood Prince (Harry ...</td>\n",
       "    </tr>\n",
       "    <tr>\n",
       "      <th>4</th>\n",
       "      <td>41335427</td>\n",
       "      <td>4</td>\n",
       "      <td>5</td>\n",
       "      <td>Harry Potter and the Half-Blood Prince (Harry ...</td>\n",
       "    </tr>\n",
       "  </tbody>\n",
       "</table>\n",
       "</div>"
      ],
      "text/plain": [
       "    item_id  user_id  rating  \\\n",
       "0  41335427        0       5   \n",
       "1  41335427        1       3   \n",
       "2  41335427        2       5   \n",
       "3  41335427        3       5   \n",
       "4  41335427        4       5   \n",
       "\n",
       "                                               title  \n",
       "0  Harry Potter and the Half-Blood Prince (Harry ...  \n",
       "1  Harry Potter and the Half-Blood Prince (Harry ...  \n",
       "2  Harry Potter and the Half-Blood Prince (Harry ...  \n",
       "3  Harry Potter and the Half-Blood Prince (Harry ...  \n",
       "4  Harry Potter and the Half-Blood Prince (Harry ...  "
      ]
     },
     "execution_count": 16,
     "metadata": {},
     "output_type": "execute_result"
    }
   ],
   "source": [
    "merged_df.head()"
   ]
  },
  {
   "cell_type": "code",
   "execution_count": 17,
   "metadata": {},
   "outputs": [
    {
     "data": {
      "text/plain": [
       "array([5, 3, 4, 2, 1])"
      ]
     },
     "execution_count": 17,
     "metadata": {},
     "output_type": "execute_result"
    }
   ],
   "source": [
    "merged_df.rating.unique()"
   ]
  },
  {
   "cell_type": "code",
   "execution_count": 18,
   "metadata": {},
   "outputs": [
    {
     "data": {
      "text/plain": [
       "(5152656, 4)"
      ]
     },
     "execution_count": 18,
     "metadata": {},
     "output_type": "execute_result"
    }
   ],
   "source": [
    "merged_df.shape"
   ]
  },
  {
   "cell_type": "code",
   "execution_count": 19,
   "metadata": {},
   "outputs": [],
   "source": [
    "merged_df.to_csv('../data/book_ratings.csv', index=False)"
   ]
  },
  {
   "cell_type": "markdown",
   "metadata": {},
   "source": [
    "### Load the dataset"
   ]
  },
  {
   "cell_type": "code",
   "execution_count": 21,
   "metadata": {},
   "outputs": [],
   "source": [
    "# Define the Reader and load the dataset\n",
    "a = merged_df[['user_id', 'title', 'rating']]\n",
    "reader = Reader(rating_scale=(1, 5))\n",
    "sf = Dataset.load_from_df(a, reader)"
   ]
  },
  {
   "cell_type": "code",
   "execution_count": 22,
   "metadata": {},
   "outputs": [],
   "source": [
    "# List of algorithms to evaluate\n",
    "models = {\n",
    "    'SVD': SVD(),\n",
    "    'NMF': NMF(),\n",
    "    'SlopeOne': SlopeOne(),\n",
    "    'CoClustering': CoClustering(),\n",
    "    'KNNBasic': KNNBasic()\n",
    "}"
   ]
  },
  {
   "cell_type": "code",
   "execution_count": null,
   "metadata": {},
   "outputs": [
    {
     "name": "stdout",
     "output_type": "stream",
     "text": [
      "Cross-validating SVD...\n"
     ]
    }
   ],
   "source": [
    "# Dictionary to store results\n",
    "results = {}\n",
    "\n",
    "# Evaluate each algorithm\n",
    "for name, model in models.items():\n",
    "    print(f\"Cross-validating {name}...\")\n",
    "    cv_results = cross_validate(model, sf, measures=['RMSE', 'MAE'], cv=5, verbose=True)\n",
    "    results[name] = {\n",
    "        'RMSE Mean': cv_results['test_rmse'].mean(),\n",
    "        'RMSE Std': cv_results['test_rmse'].std(),\n",
    "        'MAE Mean': cv_results['test_mae'].mean(),\n",
    "        'MAE Std': cv_results['test_mae'].std()\n",
    "    }"
   ]
  },
  {
   "cell_type": "code",
   "execution_count": null,
   "metadata": {},
   "outputs": [],
   "source": [
    "import pandas as pd\n",
    "results_df = pd.DataFrame(results).T\n",
    "print(results_df)"
   ]
  },
  {
   "cell_type": "code",
   "execution_count": null,
   "metadata": {},
   "outputs": [],
   "source": []
  },
  {
   "cell_type": "code",
   "execution_count": null,
   "metadata": {},
   "outputs": [],
   "source": []
  }
 ],
 "metadata": {
  "kernelspec": {
   "display_name": "Python 3 (ipykernel)",
   "language": "python",
   "name": "python3"
  },
  "language_info": {
   "codemirror_mode": {
    "name": "ipython",
    "version": 3
   },
   "file_extension": ".py",
   "mimetype": "text/x-python",
   "name": "python",
   "nbconvert_exporter": "python",
   "pygments_lexer": "ipython3",
   "version": "3.11.7"
  }
 },
 "nbformat": 4,
 "nbformat_minor": 4
}
